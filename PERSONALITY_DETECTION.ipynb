{
 "cells": [
  {
   "cell_type": "code",
   "execution_count": null,
   "metadata": {},
   "outputs": [],
   "source": [
    "#FACE ALIGNMENT"
   ]
  },
  {
   "cell_type": "code",
   "execution_count": 1,
   "metadata": {},
   "outputs": [
    {
     "name": "stderr",
     "output_type": "stream",
     "text": [
      "Using TensorFlow backend.\n"
     ]
    }
   ],
   "source": [
    "import cv2\n",
    "import dlib\n",
    "import matplotlib.pyplot as plt\n",
    "import pandas as pd\n",
    "import numpy as np\n",
    "import os\n",
    "from mtcnn.mtcnn import MTCNN\n"
   ]
  },
  {
   "cell_type": "code",
   "execution_count": 2,
   "metadata": {},
   "outputs": [
    {
     "name": "stdout",
     "output_type": "stream",
     "text": [
      "WARNING:tensorflow:From f:\\Anaconda3\\lib\\site-packages\\keras\\backend\\tensorflow_backend.py:4070: The name tf.nn.max_pool is deprecated. Please use tf.nn.max_pool2d instead.\n",
      "\n"
     ]
    }
   ],
   "source": [
    "cascade = cv2.CascadeClassifier(r'C:\\Users\\Hardik Arora\\Desktop\\personal projects\\haar_cascades files\\haarcascade_frontalface_default.xml')\n",
    "\n",
    "predictor = dlib.shape_predictor(r'C:\\Users\\Hardik Arora\\Desktop\\personal projects\\model_h5_and_pickle_files\\shape_predictor_68_face_landmarks.dat')\n",
    "\n",
    "FACIAL_LANDMARKS_ID={\"mouth\":(48,68),\"right_eyebrow\":(17,22),\"left_eyebrow\":(22,27),\"right_eye\":(36,42),\"left_eye\":(42,48),\"nose\":(27,35),\"jaw\":(0,17)}\n",
    "\n",
    "df=pd.DataFrame()\n",
    "detector=MTCNN()"
   ]
  },
  {
   "cell_type": "code",
   "execution_count": 3,
   "metadata": {},
   "outputs": [],
   "source": [
    "def shape_to_np(shape, dtype=\"int\"):\n",
    "    coords = np.zeros((68, 2), dtype=\"int\")\n",
    "    for i in range(0, 68):\n",
    "        coords[i] = (shape.part(i).x, shape.part(i).y)\n",
    "    return coords"
   ]
  },
  {
   "cell_type": "code",
   "execution_count": 45,
   "metadata": {},
   "outputs": [],
   "source": [
    "class FaceAligner:\n",
    "    def __init__(self,predictor,desired_left_eye=(0.35,0.35),samplewidth=300,sampleheight=None):\n",
    "        self.predictor=predictor\n",
    "        self.desired_left_eye=desired_left_eye\n",
    "        self.samplewidth=samplewidth\n",
    "        self.sampleheight=sampleheight\n",
    "        if(sampleheight==None):\n",
    "            self.sampleheight=samplewidth\n",
    "    def align_face(self,image,gray,rect):\n",
    "        shape=predictor(gray,rect)\n",
    "        shape=shape_to_np(shape)\n",
    "        lstart,lend=FACIAL_LANDMARKS_ID[\"left_eye\"]\n",
    "        rstart,rend=FACIAL_LANDMARKS_ID[\"right_eye\"]\n",
    "        left_eye_pts=shape[lstart:lend]\n",
    "        right_eye_pts=shape[rstart:rend]\n",
    "            \n",
    "        left_e_center=left_eye_pts.mean(axis=0).astype(\"int\")\n",
    "        right_e_center=right_eye_pts.mean(axis=0).astype(\"int\")\n",
    "        dY=right_e_center[1]-left_e_center[1]\n",
    "        dX=right_e_center[0]-left_e_center[0]\n",
    "        angle=np.degrees(np.arctan2(dY,dX))-180\n",
    "\n",
    "        desired_right_eyex=1-self.desired_left_eye[0]\n",
    "        dist=np.sqrt(dX**2+dY**2)\n",
    "        desired_dist=desired_right_eyex-self.desired_left_eye[0]\n",
    "        desired_dist*=self.samplewidth\n",
    "        scale=desired_dist/dist\n",
    "\n",
    "        eye_center=((left_e_center[0]+right_e_center[0])//2,(left_e_center[1]+right_e_center[1])//2)\n",
    "        M=cv2.getRotationMatrix2D(eye_center,angle,scale)\n",
    "        tX = self.samplewidth * 0.5\n",
    "        tY = self.sampleheight * self.desired_left_eye[1]\n",
    "        M[0, 2] += (tX - eye_center[0])\n",
    "        M[1, 2] += (tY - eye_center[1])\n",
    "        (w,h)=(self.samplewidth,self.sampleheight)\n",
    "        output=cv2.warpAffine(image,M,(w,h),flags=cv2.INTER_CUBIC)\n",
    "\n",
    "        return output"
   ]
  },
  {
   "cell_type": "code",
   "execution_count": 46,
   "metadata": {},
   "outputs": [],
   "source": [
    "fa = FaceAligner(predictor, samplewidth=256)\n"
   ]
  },
  {
   "cell_type": "code",
   "execution_count": null,
   "metadata": {},
   "outputs": [],
   "source": [
    "#LGBP FOR EXTRACTING FEATURES\n",
    "i=1"
   ]
  },
  {
   "cell_type": "code",
   "execution_count": 47,
   "metadata": {},
   "outputs": [],
   "source": [
    "def align_face_new(frame):\n",
    "    rects=[]\n",
    "    gray=cv2.cvtColor(frame,cv2.COLOR_BGR2GRAY)\n",
    "    #aces=detector.detect_faces(frame)\n",
    "    faces=cascade.detectMultiScale(gray,scaleFactor=1.05,minSize=(350,350))\n",
    "    for f in faces:\n",
    "        (x,y,w,h)=f\n",
    "        rect=(x,y,w,h)\n",
    "        rects.append(rect)\n",
    "    \n",
    "    rect=list(enumerate(rects))\n",
    "    for i,r in (rect):\n",
    "        (x,y,w,h)=r\n",
    "        rectangle=dlib.rectangle(np.uint32(x).item(),np.uint32(y).item(),np.uint32(x).item()+np.uint32(w).item(),np.uint32(x).item()+np.uint32(h).item())\n",
    "        output=fa.align_face(frame,gray,rectangle)\n",
    "        image=frame[y:y+h,x:x+w]\n",
    "        w,h=image.shape[0:2]\n",
    "        output=cv2.resize(output,(w,h))\n",
    "        frame[y:y+h,x:x+w]=output\n",
    "    return frame\n",
    "            \n"
   ]
  },
  {
   "cell_type": "code",
   "execution_count": 48,
   "metadata": {},
   "outputs": [],
   "source": [
    "def apply_features(image):\n",
    "    image=cv2.resize(image,(360,200))\n",
    "    ksize=(5,5)\n",
    "    phi=0\n",
    "    num=1\n",
    "    v=1\n",
    "    w,h=image.shape[0:2]\n",
    "    x_new=np.empty([1,w,h,3])\n",
    "    for sigma in (1,3):\n",
    "        for theta in (1,2):\n",
    "            theta=theta*np.pi/4\n",
    "            for lambd  in np.arange(0,np.pi*3/4,np.pi/4):\n",
    "                for gamma in (0.05,0.5):\n",
    "                    gabor_label=\"gabour\"+str(num)\n",
    "                    kernel=cv2.getGaborKernel(ksize,sigma,theta,lambd,gamma,phi,ktype=cv2.CV_32F)\n",
    "                    fimg=cv2.filter2D(image,cv2.CV_8UC3,kernel)\n",
    "                    fimg=np.expand_dims(fimg,axis=0)\n",
    "                    x_new=np.concatenate((x_new,fimg),axis=0)\n",
    "                    num+=1\n",
    "                    v+=1\n",
    "    x_new=np.delete(x_new,0,0)\n",
    "    return x_new"
   ]
  },
  {
   "cell_type": "code",
   "execution_count": 53,
   "metadata": {},
   "outputs": [],
   "source": [
    "def extract_features_LBBP_24(path_video):\n",
    "    cap=cv2.VideoCapture(path_video)\n",
    "    frame_count=int(cap.get(cv2.CAP_PROP_FRAME_COUNT))\n",
    "    num=1\n",
    "    features=np.empty((1,24,200,360,3))\n",
    "    for i in range(0,frame_count):\n",
    "        if int(i)%15!=0:\n",
    "            ret,frame=cap.read()\n",
    "            frame=align_face_new(frame)\n",
    "            cv2.imwrite(\"unused/image\"+str(num)+\".jpg\",frame)\n",
    "            num+=1\n",
    "            continue\n",
    "        else:\n",
    "            ret,frame=cap.read()\n",
    "            frame=align_face_new(frame)\n",
    "            cv2.imwrite(\"unused/image\"+str(num)+\".jpg\",frame)\n",
    "            value=apply_features(frame)\n",
    "            value=np.expand_dims(value,axis=0)\n",
    "            features=np.concatenate((features,value),axis=0)\n",
    "            num+=1\n",
    "    return features"
   ]
  },
  {
   "cell_type": "code",
   "execution_count": 54,
   "metadata": {},
   "outputs": [],
   "source": [
    "#for i in range (5):\n",
    "i=0\n",
    "x=np.empty((1,32,24,200,360,3))\n",
    "path=r\"C:\\Users\\Hardik Arora\\Desktop\\personal projects\\videos\\test_video\"+str(i+1)+\".mp4\"\n",
    "features=extract_features_LBBP_24(path)\n",
    "features=np.expand_dims(features,axis=0)\n",
    "x=np.concatenate((x,features),axis=0)"
   ]
  },
  {
   "cell_type": "code",
   "execution_count": 55,
   "metadata": {},
   "outputs": [
    {
     "name": "stdout",
     "output_type": "stream",
     "text": [
      "(2, 32, 24, 200, 360, 3)\n"
     ]
    }
   ],
   "source": [
    "print(x.shape)"
   ]
  }
 ],
 "metadata": {
  "kernelspec": {
   "display_name": "Python 3",
   "language": "python",
   "name": "python3"
  },
  "language_info": {
   "codemirror_mode": {
    "name": "ipython",
    "version": 3
   },
   "file_extension": ".py",
   "mimetype": "text/x-python",
   "name": "python",
   "nbconvert_exporter": "python",
   "pygments_lexer": "ipython3",
   "version": "3.7.3"
  }
 },
 "nbformat": 4,
 "nbformat_minor": 2
}
